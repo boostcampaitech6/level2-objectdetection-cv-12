{
 "cells": [
  {
   "cell_type": "code",
   "execution_count": 1,
   "metadata": {},
   "outputs": [
    {
     "name": "stdout",
     "output_type": "stream",
     "text": [
      "Collecting ensemble_boxes\n",
      "  Downloading ensemble_boxes-1.0.9-py3-none-any.whl (23 kB)\n",
      "Requirement already satisfied: numpy in /opt/conda/lib/python3.10/site-packages (from ensemble_boxes) (1.22.4)\n",
      "Requirement already satisfied: pandas in /opt/conda/lib/python3.10/site-packages (from ensemble_boxes) (1.3.5)\n",
      "Collecting numba (from ensemble_boxes)\n",
      "  Obtaining dependency information for numba from https://files.pythonhosted.org/packages/ed/13/b66627125b35f2987bd9872cf028b5e1e1ffcbc8d1e182ac4e84eed3998f/numba-0.58.1-cp310-cp310-manylinux2014_x86_64.manylinux_2_17_x86_64.whl.metadata\n",
      "  Downloading numba-0.58.1-cp310-cp310-manylinux2014_x86_64.manylinux_2_17_x86_64.whl.metadata (2.7 kB)\n",
      "Collecting llvmlite<0.42,>=0.41.0dev0 (from numba->ensemble_boxes)\n",
      "  Obtaining dependency information for llvmlite<0.42,>=0.41.0dev0 from https://files.pythonhosted.org/packages/57/7d/ef28d5812f852b93bd2a583d00cdcde56833d31b645ae0eaa7e71eecfb4e/llvmlite-0.41.1-cp310-cp310-manylinux_2_17_x86_64.manylinux2014_x86_64.whl.metadata\n",
      "  Downloading llvmlite-0.41.1-cp310-cp310-manylinux_2_17_x86_64.manylinux2014_x86_64.whl.metadata (4.8 kB)\n",
      "Requirement already satisfied: python-dateutil>=2.7.3 in /opt/conda/lib/python3.10/site-packages (from pandas->ensemble_boxes) (2.8.2)\n",
      "Requirement already satisfied: pytz>=2017.3 in /opt/conda/lib/python3.10/site-packages (from pandas->ensemble_boxes) (2023.3.post1)\n",
      "Requirement already satisfied: six>=1.5 in /opt/conda/lib/python3.10/site-packages (from python-dateutil>=2.7.3->pandas->ensemble_boxes) (1.16.0)\n",
      "Downloading numba-0.58.1-cp310-cp310-manylinux2014_x86_64.manylinux_2_17_x86_64.whl (3.6 MB)\n",
      "\u001b[2K   \u001b[90m━━━━━━━━━━━━━━━━━━━━━━━━━━━━━━━━━━━━━━━━\u001b[0m \u001b[32m3.6/3.6 MB\u001b[0m \u001b[31m67.7 MB/s\u001b[0m eta \u001b[36m0:00:00\u001b[0m:00:01\u001b[0m\n",
      "\u001b[?25hDownloading llvmlite-0.41.1-cp310-cp310-manylinux_2_17_x86_64.manylinux2014_x86_64.whl (43.6 MB)\n",
      "\u001b[2K   \u001b[90m━━━━━━━━━━━━━━━━━━━━━━━━━━━━━━━━━━━━━━━━\u001b[0m \u001b[32m43.6/43.6 MB\u001b[0m \u001b[31m31.0 MB/s\u001b[0m eta \u001b[36m0:00:00\u001b[0m:00:01\u001b[0m00:01\u001b[0m\n",
      "\u001b[?25hInstalling collected packages: llvmlite, numba, ensemble_boxes\n",
      "Successfully installed ensemble_boxes-1.0.9 llvmlite-0.41.1 numba-0.58.1\n",
      "\u001b[33mWARNING: Running pip as the 'root' user can result in broken permissions and conflicting behaviour with the system package manager. It is recommended to use a virtual environment instead: https://pip.pypa.io/warnings/venv\u001b[0m\u001b[33m\n",
      "\u001b[0m"
     ]
    }
   ],
   "source": [
    "!pip install ensemble_boxes"
   ]
  },
  {
   "cell_type": "code",
   "execution_count": 1,
   "metadata": {},
   "outputs": [],
   "source": [
    "import pandas as pd\n",
    "from ensemble_boxes import *\n",
    "import numpy as np\n",
    "from pycocotools.coco import COCO"
   ]
  },
  {
   "cell_type": "code",
   "execution_count": 13,
   "metadata": {},
   "outputs": [],
   "source": [
    "# ensemble csv files\n",
    "submission_files = ['/data/ephemeral/home/sample_submission/dino234+cascade_ensemble_wbf.csv',\n",
    "                    '/data/ephemeral/home/sample_submission/YOLOv8n_ensemble_wbf_iou9.csv']\n",
    "submission_df = [pd.read_csv(file) for file in submission_files]"
   ]
  },
  {
   "cell_type": "code",
   "execution_count": 14,
   "metadata": {},
   "outputs": [
    {
     "name": "stdout",
     "output_type": "stream",
     "text": [
      "2\n"
     ]
    }
   ],
   "source": [
    "image_ids = submission_df[0]['image_id'].tolist()\n",
    "print(len(submission_df))"
   ]
  },
  {
   "cell_type": "code",
   "execution_count": 15,
   "metadata": {},
   "outputs": [
    {
     "name": "stdout",
     "output_type": "stream",
     "text": [
      "loading annotations into memory...\n",
      "Done (t=0.01s)\n",
      "creating index...\n",
      "index created!\n"
     ]
    }
   ],
   "source": [
    "# ensemble 할 file의 image 정보를 불러오기 위한 json\n",
    "annotation = '../../dataset/test.json'\n",
    "coco = COCO(annotation)"
   ]
  },
  {
   "cell_type": "code",
   "execution_count": 16,
   "metadata": {},
   "outputs": [],
   "source": [
    "prediction_strings = []\n",
    "file_names = []\n",
    "# ensemble 시 설정할 iou threshold 이 부분을 바꿔가며 대회 metric에 알맞게 적용해봐요!\n",
    "#weights = [1.0,0.7,0.3,0.3,1.2,1.2]\n",
    "\n",
    "# 각 image id 별로 submission file에서 box좌표 추출\n",
    "for i, image_id in enumerate(image_ids):\n",
    "    prediction_string = ''\n",
    "    boxes_list = []\n",
    "    scores_list = []\n",
    "    labels_list = []\n",
    "    image_info = coco.loadImgs(i)[0]\n",
    "#     각 submission file 별로 prediction box좌표 불러오기\n",
    "    for df in submission_df:\n",
    "        predict_string = df[df['image_id'] == image_id]['PredictionString'].tolist()[0]\n",
    "        predict_list = str(predict_string).split()\n",
    "\n",
    "        if len(predict_list)==0 or len(predict_list)==1:\n",
    "            continue\n",
    "\n",
    "        predict_list = np.reshape(predict_list, (-1, 6))\n",
    "        box_list = []\n",
    "\n",
    "        for box in predict_list[:, 2:6].tolist():\n",
    "            box[0] = float(box[0])\n",
    "            box[1] = float(box[1])\n",
    "            box[2] = float(box[2])\n",
    "            box[3] = float(box[3])\n",
    "            box_list.append(box)\n",
    "\n",
    "        boxes_list.append(box_list)\n",
    "        scores_list.append(list(map(float, predict_list[:, 1].tolist())))\n",
    "        labels_list.append(list(map(int, predict_list[:, 0].tolist())))\n",
    "#     예측 box가 있다면 이를 ensemble 수행\n",
    "    if len(boxes_list):\n",
    "        #boxes, scores, labels = weighted_boxes_fusion(boxes_list, scores_list, labels_list,  iou_thr=iou_thr)\n",
    "        for boxes, scores, labels in zip(boxes_list, scores_list, labels_list):\n",
    "            for box, score, label in zip(boxes, scores, labels):\n",
    "                label = int(label) \n",
    "                prediction_string += str(label) + ' ' + str(score) + ' ' + str(box[0]) + ' ' + str(box[1]) + ' ' + str(box[2]) + ' ' + str(box[3]) + ' '\n",
    "\n",
    "    prediction_strings.append(prediction_string)\n",
    "    file_names.append(image_id)"
   ]
  },
  {
   "cell_type": "code",
   "execution_count": 17,
   "metadata": {},
   "outputs": [
    {
     "data": {
      "text/html": [
       "<div>\n",
       "<style scoped>\n",
       "    .dataframe tbody tr th:only-of-type {\n",
       "        vertical-align: middle;\n",
       "    }\n",
       "\n",
       "    .dataframe tbody tr th {\n",
       "        vertical-align: top;\n",
       "    }\n",
       "\n",
       "    .dataframe thead th {\n",
       "        text-align: right;\n",
       "    }\n",
       "</style>\n",
       "<table border=\"1\" class=\"dataframe\">\n",
       "  <thead>\n",
       "    <tr style=\"text-align: right;\">\n",
       "      <th></th>\n",
       "      <th>PredictionString</th>\n",
       "      <th>image_id</th>\n",
       "    </tr>\n",
       "  </thead>\n",
       "  <tbody>\n",
       "    <tr>\n",
       "      <th>0</th>\n",
       "      <td>7 0.9635725021362305 213.8626251220703 50.0466...</td>\n",
       "      <td>test/0000.jpg</td>\n",
       "    </tr>\n",
       "    <tr>\n",
       "      <th>1</th>\n",
       "      <td>5 0.8724842071533203 133.7473602294922 0.01667...</td>\n",
       "      <td>test/0001.jpg</td>\n",
       "    </tr>\n",
       "    <tr>\n",
       "      <th>2</th>\n",
       "      <td>1 0.6486684679985046 423.69500732421875 268.30...</td>\n",
       "      <td>test/0002.jpg</td>\n",
       "    </tr>\n",
       "    <tr>\n",
       "      <th>3</th>\n",
       "      <td>9 0.6772239804267883 143.8419647216797 246.821...</td>\n",
       "      <td>test/0003.jpg</td>\n",
       "    </tr>\n",
       "    <tr>\n",
       "      <th>4</th>\n",
       "      <td>0 0.5448459386825562 424.0182800292969 409.903...</td>\n",
       "      <td>test/0004.jpg</td>\n",
       "    </tr>\n",
       "  </tbody>\n",
       "</table>\n",
       "</div>"
      ],
      "text/plain": [
       "                                    PredictionString       image_id\n",
       "0  7 0.9635725021362305 213.8626251220703 50.0466...  test/0000.jpg\n",
       "1  5 0.8724842071533203 133.7473602294922 0.01667...  test/0001.jpg\n",
       "2  1 0.6486684679985046 423.69500732421875 268.30...  test/0002.jpg\n",
       "3  9 0.6772239804267883 143.8419647216797 246.821...  test/0003.jpg\n",
       "4  0 0.5448459386825562 424.0182800292969 409.903...  test/0004.jpg"
      ]
     },
     "execution_count": 17,
     "metadata": {},
     "output_type": "execute_result"
    }
   ],
   "source": [
    "submission = pd.DataFrame()\n",
    "submission['PredictionString'] = prediction_strings\n",
    "submission['image_id'] = file_names\n",
    "submission.to_csv('../../sample_submission/dino234+cascade+YOLO_ensemble_wbf_++.csv', index=None)\n",
    "\n",
    "submission.head()"
   ]
  }
 ],
 "metadata": {
  "kernelspec": {
   "display_name": "base",
   "language": "python",
   "name": "python3"
  },
  "language_info": {
   "codemirror_mode": {
    "name": "ipython",
    "version": 3
   },
   "file_extension": ".py",
   "mimetype": "text/x-python",
   "name": "python",
   "nbconvert_exporter": "python",
   "pygments_lexer": "ipython3",
   "version": "3.10.13"
  }
 },
 "nbformat": 4,
 "nbformat_minor": 2
}
