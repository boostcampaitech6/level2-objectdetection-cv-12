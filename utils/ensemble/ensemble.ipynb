{
 "cells": [
  {
   "cell_type": "code",
   "execution_count": null,
   "metadata": {},
   "outputs": [],
   "source": [
    "!pip install ensemble_boxes"
   ]
  },
  {
   "cell_type": "code",
   "execution_count": 2,
   "metadata": {},
   "outputs": [],
   "source": [
    "import pandas as pd\n",
    "from ensemble_boxes import *\n",
    "import numpy as np\n",
    "from pycocotools.coco import COCO"
   ]
  },
  {
   "cell_type": "code",
   "execution_count": 18,
   "metadata": {},
   "outputs": [],
   "source": [
    "# ensemble csv files\n",
    "# submission_files = ['/data/ephemeral/home/mmdetection/work_dirs/faster_rcnn_r50_fpn_1x_trash/20240112_144452/submit/submission.csv',\n",
    "#                     '/data/ephemeral/home/mmdetection/work_dirs/cascade-rcnn_r50-caffe_fpn_1x_coco/20240112_185709/submit/submission.csv',\n",
    "#                     '/data/ephemeral/home/mmdetection/work_dirs/cascade-rcnn_r50-caffe_fpn_1x_coco/20240112_204451/submit/submission.csv',\n",
    "#                     '/data/ephemeral/home/mmdetection/work_dirs/cascade-rcnn_r50-caffe_fpn_1x_coco/20240113_000650/submit/submission.csv',\n",
    "#                    '/data/ephemeral/home/mmdetection/work_dirs/cascade-rcnn_r50-caffe_fpn_1x_coco/20240113_013843/submit/submission.csv']\n",
    "submission_files = ['/data/ephemeral/home/mmdetection/work_dirs/cascade-rcnn_x101-64x4d_fpn_1x_coco.py/20240114_190924/submit/submission_data4.csv',\n",
    "                    '/data/ephemeral/home/mmdetection/work_dirs/cascade-rcnn_x101-64x4d_fpn_1x_coco.py/20240114_143934/submit/submission_data3.csv']\n",
    "submission_df = [pd.read_csv(file) for file in submission_files]"
   ]
  },
  {
   "cell_type": "code",
   "execution_count": 19,
   "metadata": {},
   "outputs": [],
   "source": [
    "image_ids = submission_df[0]['image_id'].tolist()"
   ]
  },
  {
   "cell_type": "code",
   "execution_count": 20,
   "metadata": {},
   "outputs": [
    {
     "name": "stdout",
     "output_type": "stream",
     "text": [
      "loading annotations into memory...\n",
      "Done (t=0.02s)\n",
      "creating index...\n",
      "index created!\n"
     ]
    }
   ],
   "source": [
    "# ensemble 할 file의 image 정보를 불러오기 위한 json\n",
    "annotation = '/data/ephemeral/home/dataset/test.json'\n",
    "coco = COCO(annotation)"
   ]
  },
  {
   "cell_type": "code",
   "execution_count": 21,
   "metadata": {},
   "outputs": [],
   "source": [
    "prediction_strings = []\n",
    "file_names = []\n",
    "# ensemble 시 설정할 iou threshold 이 부분을 바꿔가며 대회 metric에 알맞게 적용해봐요!\n",
    "iou_thr = 0.5\n",
    "\n",
    "# 각 image id 별로 submission file에서 box좌표 추출\n",
    "for i, image_id in enumerate(image_ids):\n",
    "    prediction_string = ''\n",
    "    boxes_list = []\n",
    "    scores_list = []\n",
    "    labels_list = []\n",
    "\n",
    "    index_str = image_id.split('/')[1].split('.')[0]\n",
    "    image_index = int(index_str)\n",
    "    \n",
    "    image_info = coco.loadImgs(image_index)[0]\n",
    "#     각 submission file 별로 prediction box좌표 불러오기\n",
    "    for df in submission_df:\n",
    "        predict_string = df[df['image_id'] == image_id]['PredictionString'].tolist()[0]\n",
    "        predict_list = str(predict_string).split()\n",
    "\n",
    "        if len(predict_list)==0 or len(predict_list)==1:\n",
    "            continue\n",
    "\n",
    "        predict_list = np.reshape(predict_list, (-1, 6))\n",
    "        box_list = []\n",
    "\n",
    "        for box in predict_list[:, 2:6].tolist():\n",
    "            box[0] = float(box[0]) / image_info['width']\n",
    "            box[1] = float(box[1]) / image_info['height']\n",
    "            box[2] = float(box[2]) / image_info['width']\n",
    "            box[3] = float(box[3]) / image_info['height']\n",
    "            box_list.append(box)\n",
    "\n",
    "        boxes_list.append(box_list)\n",
    "        scores_list.append(list(map(float, predict_list[:, 1].tolist())))\n",
    "        labels_list.append(list(map(int, predict_list[:, 0].tolist())))\n",
    "\n",
    "#     예측 box가 있다면 이를 ensemble 수행\n",
    "    if len(boxes_list):\n",
    "        boxes, scores, labels = nms(boxes_list, scores_list, labels_list, iou_thr=iou_thr)\n",
    "        for box, score, label in zip(boxes, scores, labels):\n",
    "            prediction_string += str(label) + ' ' + str(score) + ' ' + str(box[0] * image_info['width']) + ' ' + str(box[1] * image_info['height']) + ' ' + str(box[2] * image_info['width']) + ' ' + str(box[3] * image_info['height']) + ' '\n",
    "\n",
    "    prediction_strings.append(prediction_string)\n",
    "    file_names.append(image_id)"
   ]
  },
  {
   "cell_type": "code",
   "execution_count": 22,
   "metadata": {},
   "outputs": [
    {
     "data": {
      "text/html": [
       "<div>\n",
       "<style scoped>\n",
       "    .dataframe tbody tr th:only-of-type {\n",
       "        vertical-align: middle;\n",
       "    }\n",
       "\n",
       "    .dataframe tbody tr th {\n",
       "        vertical-align: top;\n",
       "    }\n",
       "\n",
       "    .dataframe thead th {\n",
       "        text-align: right;\n",
       "    }\n",
       "</style>\n",
       "<table border=\"1\" class=\"dataframe\">\n",
       "  <thead>\n",
       "    <tr style=\"text-align: right;\">\n",
       "      <th></th>\n",
       "      <th>PredictionString</th>\n",
       "      <th>image_id</th>\n",
       "    </tr>\n",
       "  </thead>\n",
       "  <tbody>\n",
       "    <tr>\n",
       "      <th>0</th>\n",
       "      <td>0 0.7592291831970215 215.37314 692.6747 250.07...</td>\n",
       "      <td>test/0000.jpg</td>\n",
       "    </tr>\n",
       "    <tr>\n",
       "      <th>1</th>\n",
       "      <td>0 0.9471516013145447 762.1887 663.8485 895.771...</td>\n",
       "      <td>test/0001.jpg</td>\n",
       "    </tr>\n",
       "    <tr>\n",
       "      <th>2</th>\n",
       "      <td>0 0.9506085515022278 658.9348 288.84018 736.65...</td>\n",
       "      <td>test/0002.jpg</td>\n",
       "    </tr>\n",
       "    <tr>\n",
       "      <th>3</th>\n",
       "      <td>0 0.06530828028917313 2.9803123 0.0 990.2394 1...</td>\n",
       "      <td>test/0003.jpg</td>\n",
       "    </tr>\n",
       "    <tr>\n",
       "      <th>4</th>\n",
       "      <td>0 0.8522250652313232 194.36028 259.7238 871.43...</td>\n",
       "      <td>test/0004.jpg</td>\n",
       "    </tr>\n",
       "  </tbody>\n",
       "</table>\n",
       "</div>"
      ],
      "text/plain": [
       "                                    PredictionString       image_id\n",
       "0  0 0.7592291831970215 215.37314 692.6747 250.07...  test/0000.jpg\n",
       "1  0 0.9471516013145447 762.1887 663.8485 895.771...  test/0001.jpg\n",
       "2  0 0.9506085515022278 658.9348 288.84018 736.65...  test/0002.jpg\n",
       "3  0 0.06530828028917313 2.9803123 0.0 990.2394 1...  test/0003.jpg\n",
       "4  0 0.8522250652313232 194.36028 259.7238 871.43...  test/0004.jpg"
      ]
     },
     "execution_count": 22,
     "metadata": {},
     "output_type": "execute_result"
    }
   ],
   "source": [
    "submission = pd.DataFrame()\n",
    "submission['PredictionString'] = prediction_strings\n",
    "submission['image_id'] = file_names\n",
    "submission.to_csv('ensemble/submission_ensemble_data_cascade34_101.csv', index=False)\n",
    "\n",
    "submission.head()"
   ]
  }
 ],
 "metadata": {
  "kernelspec": {
   "display_name": "base",
   "language": "python",
   "name": "python3"
  },
  "language_info": {
   "codemirror_mode": {
    "name": "ipython",
    "version": 3
   },
   "file_extension": ".py",
   "mimetype": "text/x-python",
   "name": "python",
   "nbconvert_exporter": "python",
   "pygments_lexer": "ipython3",
   "version": "3.10.13"
  }
 },
 "nbformat": 4,
 "nbformat_minor": 2
}
